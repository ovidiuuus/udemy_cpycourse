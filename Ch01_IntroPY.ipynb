{
 "cells": [
  {
   "cell_type": "code",
   "execution_count": null,
   "metadata": {
    "tags": []
   },
   "outputs": [],
   "source": [
    "print(\"my name is Ovidiu. Hello World!\")"
   ]
  },
  {
   "cell_type": "code",
   "execution_count": null,
   "metadata": {
    "tags": []
   },
   "outputs": [],
   "source": [
    "integer_division = 13 // 5\n",
    "print(integer_division)"
   ]
  },
  {
   "cell_type": "code",
   "execution_count": null,
   "metadata": {
    "tags": []
   },
   "outputs": [],
   "source": [
    "remainder = 13 % 5\n",
    "print(remainder)"
   ]
  },
  {
   "cell_type": "code",
   "execution_count": null,
   "metadata": {
    "tags": []
   },
   "outputs": [],
   "source": [
    "x = 37\n",
    "remainder = x % 2\n",
    "print(remainder)"
   ]
  },
  {
   "cell_type": "code",
   "execution_count": null,
   "metadata": {},
   "outputs": [],
   "source": [
    "### Exercise 1 : Variables and Numbers\n",
    "# Create 2 varibles, var1 and var2, both with the same value. \n",
    "# It can be anything you want.\n",
    "\n",
    "var1 = 10\n",
    "var2 = 10\n",
    "\n",
    "# Create two variables, num1 and num2, which multiply together to give 16.\n",
    "num1 = 2\n",
    "num2 = 8"
   ]
  },
  {
   "cell_type": "code",
   "execution_count": null,
   "metadata": {
    "tags": []
   },
   "outputs": [],
   "source": [
    "my_string = \"Hello, world!\"\n",
    "print(my_string)"
   ]
  },
  {
   "cell_type": "code",
   "execution_count": null,
   "metadata": {
    "tags": []
   },
   "outputs": [],
   "source": [
    "string_with_quotes = \"Hello, it's me.\"\n",
    "another_with_quotes = \"He said \\\"You are amazing!\\\" yesterday\"\n",
    "multiline = \"\"\"Hello, world,\n",
    "\n",
    "My name is Jose. Welcome to my program.\n",
    "\"\"\"\n",
    "print(multiline)"
   ]
  },
  {
   "cell_type": "code",
   "execution_count": null,
   "metadata": {},
   "outputs": [],
   "source": [
    "\"\"\"\n",
    "Strings\n",
    "\n",
    "This file talks about strings.\n",
    "\"\"\""
   ]
  },
  {
   "cell_type": "code",
   "execution_count": null,
   "metadata": {
    "tags": []
   },
   "outputs": [],
   "source": [
    "name = \"Jose\"\n",
    "greeting = \"Hello, \" + name\n",
    "print(greeting)"
   ]
  },
  {
   "cell_type": "code",
   "execution_count": null,
   "metadata": {
    "tags": []
   },
   "outputs": [],
   "source": [
    "age = 34\n",
    "\n",
    "age_as_str = \"Hello, You are \" + str(age)\n",
    "print(age_as_str)"
   ]
  },
  {
   "source": [
    "age = 34\n",
    "print(f\"You are {age}\")"
   ],
   "cell_type": "code",
   "metadata": {
    "tags": []
   },
   "execution_count": null,
   "outputs": []
  },
  {
   "cell_type": "code",
   "execution_count": null,
   "metadata": {
    "tags": []
   },
   "outputs": [],
   "source": [
    "name = \"Jose\"\n",
    "greeting = f\"How are you, {name}?\"\n",
    "print(greeting)"
   ]
  },
  {
   "cell_type": "code",
   "execution_count": null,
   "metadata": {
    "tags": []
   },
   "outputs": [],
   "source": [
    "name = \"Bob\"\n",
    "print(greeting)"
   ]
  },
  {
   "cell_type": "code",
   "execution_count": 4,
   "metadata": {
    "tags": []
   },
   "outputs": [
    {
     "output_type": "stream",
     "name": "stdout",
     "text": "How are you Jose?\nHow are you Bob?\n"
    }
   ],
   "source": [
    "name = \"Jose\"\n",
    "final_greeting = \"How are you {}?\"\n",
    "jose_greeting = final_greeting.format(name)\n",
    "print(jose_greeting)\n",
    "\n",
    "name = \"Bob\"\n",
    "bob_greeting = final_greeting.format(name)\n",
    "print(bob_greeting)"
   ]
  },
  {
   "cell_type": "code",
   "execution_count": 9,
   "metadata": {
    "tags": []
   },
   "outputs": [
    {
     "output_type": "stream",
     "name": "stdout",
     "text": "How are you, Jose?\n"
    }
   ],
   "source": [
    "friend_name = \"Jose\"\n",
    "final_greeting = \"How are you, {name}?\"\n",
    "jose_greeting = final_greeting.format(name=friend_name)\n",
    "print(jose_greeting)"
   ]
  },
  {
   "cell_type": "code",
   "execution_count": 12,
   "metadata": {
    "tags": []
   },
   "outputs": [
    {
     "output_type": "stream",
     "name": "stdout",
     "text": "How are you, Bob?\n"
    }
   ],
   "source": [
    "final_greeting = \"How are you, {}?\"\n",
    "name = \"Bob\"\n",
    "print(final_greeting.format(name))"
   ]
  },
  {
   "cell_type": "code",
   "execution_count": 13,
   "metadata": {
    "tags": []
   },
   "outputs": [
    {
     "output_type": "stream",
     "name": "stdout",
     "text": "Hello Ovidiu. My name is Jose.\n"
    }
   ],
   "source": [
    "my_name = \"Jose\"\n",
    "your_name = input(\"Enter your name here:\")\n",
    "\n",
    "print(f\"Hello {your_name}. My name is {my_name}.\")"
   ]
  }
 ],
 "metadata": {
  "kernelspec": {
   "display_name": "Python 3",
   "language": "python",
   "name": "python3"
  },
  "language_info": {
   "codemirror_mode": {
    "name": "ipython",
    "version": 3
   },
   "file_extension": ".py",
   "mimetype": "text/x-python",
   "name": "python",
   "nbconvert_exporter": "python",
   "pygments_lexer": "ipython3",
   "version": "3.8.2-final"
  }
 },
 "nbformat": 4,
 "nbformat_minor": 4
}