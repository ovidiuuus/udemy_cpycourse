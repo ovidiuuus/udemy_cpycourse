{
 "cells": [
  {
   "cell_type": "code",
   "execution_count": null,
   "metadata": {
    "tags": []
   },
   "outputs": [],
   "source": [
    "print(\"my name is Ovidiu. Hello World!\")"
   ]
  },
  {
   "cell_type": "code",
   "execution_count": null,
   "metadata": {
    "tags": []
   },
   "outputs": [],
   "source": [
    "integer_division = 13 // 5\n",
    "print(integer_division)"
   ]
  },
  {
   "cell_type": "code",
   "execution_count": null,
   "metadata": {
    "tags": []
   },
   "outputs": [],
   "source": [
    "remainder = 13 % 5\n",
    "print(remainder)"
   ]
  },
  {
   "cell_type": "code",
   "execution_count": null,
   "metadata": {
    "tags": []
   },
   "outputs": [],
   "source": [
    "x = 37\n",
    "remainder = x % 2\n",
    "print(remainder)"
   ]
  },
  {
   "cell_type": "code",
   "execution_count": null,
   "metadata": {},
   "outputs": [],
   "source": [
    "### Exercise 1 : Variables and Numbers\n",
    "# Create 2 varibles, var1 and var2, both with the same value. \n",
    "# It can be anything you want.\n",
    "\n",
    "var1 = 10\n",
    "var2 = 10\n",
    "\n",
    "# Create two variables, num1 and num2, which multiply together to give 16.\n",
    "num1 = 2\n",
    "num2 = 8"
   ]
  },
  {
   "cell_type": "code",
   "execution_count": null,
   "metadata": {
    "tags": []
   },
   "outputs": [],
   "source": [
    "my_string = \"Hello, world!\"\n",
    "print(my_string)"
   ]
  },
  {
   "cell_type": "code",
   "execution_count": null,
   "metadata": {
    "tags": []
   },
   "outputs": [],
   "source": [
    "string_with_quotes = \"Hello, it's me.\"\n",
    "another_with_quotes = \"He said \\\"You are amazing!\\\" yesterday\"\n",
    "multiline = \"\"\"Hello, world,\n",
    "\n",
    "My name is Jose. Welcome to my program.\n",
    "\"\"\"\n",
    "print(multiline)"
   ]
  },
  {
   "cell_type": "code",
   "execution_count": null,
   "metadata": {},
   "outputs": [],
   "source": [
    "\"\"\"\n",
    "Strings\n",
    "\n",
    "This file talks about strings.\n",
    "\"\"\""
   ]
  },
  {
   "cell_type": "code",
   "execution_count": null,
   "metadata": {
    "tags": []
   },
   "outputs": [],
   "source": [
    "name = \"Jose\"\n",
    "greeting = \"Hello, \" + name\n",
    "print(greeting)"
   ]
  },
  {
   "cell_type": "code",
   "execution_count": null,
   "metadata": {
    "tags": []
   },
   "outputs": [],
   "source": [
    "age = 34\n",
    "\n",
    "age_as_str = \"Hello, You are \" + str(age)\n",
    "print(age_as_str)"
   ]
  },
  {
   "source": [
    "age = 34\n",
    "print(f\"You are {age}\")"
   ],
   "cell_type": "code",
   "metadata": {
    "tags": []
   },
   "execution_count": null,
   "outputs": []
  },
  {
   "cell_type": "code",
   "execution_count": null,
   "metadata": {
    "tags": []
   },
   "outputs": [],
   "source": [
    "name = \"Jose\"\n",
    "greeting = f\"How are you, {name}?\"\n",
    "print(greeting)"
   ]
  },
  {
   "cell_type": "code",
   "execution_count": null,
   "metadata": {
    "tags": []
   },
   "outputs": [],
   "source": [
    "name = \"Bob\"\n",
    "print(greeting)"
   ]
  },
  {
   "cell_type": "code",
   "execution_count": null,
   "metadata": {
    "tags": []
   },
   "outputs": [],
   "source": [
    "name = \"Jose\"\n",
    "final_greeting = \"How are you {}?\"\n",
    "jose_greeting = final_greeting.format(name)\n",
    "print(jose_greeting)\n",
    "\n",
    "name = \"Bob\"\n",
    "bob_greeting = final_greeting.format(name)\n",
    "print(bob_greeting)"
   ]
  },
  {
   "cell_type": "code",
   "execution_count": null,
   "metadata": {
    "tags": []
   },
   "outputs": [],
   "source": [
    "friend_name = \"Jose\"\n",
    "final_greeting = \"How are you, {name}?\"\n",
    "jose_greeting = final_greeting.format(name=friend_name)\n",
    "print(jose_greeting)"
   ]
  },
  {
   "cell_type": "code",
   "execution_count": null,
   "metadata": {
    "tags": []
   },
   "outputs": [],
   "source": [
    "final_greeting = \"How are you, {}?\"\n",
    "name = \"Bob\"\n",
    "print(final_greeting.format(name))"
   ]
  },
  {
   "cell_type": "code",
   "execution_count": null,
   "metadata": {
    "tags": []
   },
   "outputs": [],
   "source": [
    "my_name = \"Jose\"\n",
    "your_name = input(\"Enter your name here:\")\n",
    "\n",
    "print(f\"Hello {your_name}. My name is {my_name}.\")"
   ]
  },
  {
   "cell_type": "code",
   "execution_count": null,
   "metadata": {},
   "outputs": [],
   "source": [
    "age = int(input(\"Enter your age:\"))\n",
    "print(f\"Your age in months is {age * 12} months.\")"
   ]
  },
  {
   "cell_type": "code",
   "execution_count": null,
   "metadata": {},
   "outputs": [],
   "source": [
    "age = int(input(\"Enter your age:\"))\n",
    "months = age * 12\n",
    "print(f\"Your age in months is {months} months.\")"
   ]
  },
  {
   "cell_type": "code",
   "execution_count": null,
   "metadata": {},
   "outputs": [],
   "source": [
    "name = input(\"Please enter your name:\")\n",
    "print(f\"Hello, {name}\")"
   ]
  },
  {
   "cell_type": "code",
   "execution_count": null,
   "metadata": {},
   "outputs": [],
   "source": [
    "truthy = True\n",
    "falsy = False\n",
    "\n",
    "age = 20\n",
    "is_over_age = age >= 18\n",
    "is_under_age = age < 18\n",
    "is_twenty = age == 20\n",
    "print(is_over_age, is_under_age, is_twenty)"
   ]
  },
  {
   "cell_type": "code",
   "execution_count": null,
   "metadata": {},
   "outputs": [],
   "source": [
    "number = 5\n",
    "user_number = int(input(\"Enter a number:\" ))\n",
    "\n",
    "print(number == user_number)\n",
    "\n",
    "match = number == user_number\n",
    "print(f\"your match : {match}\")"
   ]
  },
  {
   "cell_type": "code",
   "execution_count": null,
   "metadata": {
    "tags": []
   },
   "outputs": [],
   "source": [
    "age = int(input(\"Enter your age: \"))\n",
    "can_learn_py = age > 0 and age < 150\n",
    "print(f\"You can learn programming: {can_learn_py}\")"
   ]
  },
  {
   "cell_type": "code",
   "execution_count": null,
   "metadata": {
    "tags": []
   },
   "outputs": [],
   "source": [
    "age = int(input(\"Enter your age: \"))\n",
    "usually_not_working = age < 18 and age > 65\n",
    "usually_working = age >= 18 or age <= 65\n",
    "print(f\"At {age}, you are usually not working: {usually_not_working}.\")\n",
    "print(f\"At {age}, you are usually working: {usually_working}.\")"
   ]
  },
  {
   "cell_type": "code",
   "execution_count": null,
   "metadata": {
    "tags": []
   },
   "outputs": [],
   "source": [
    "print(bool(0))\n",
    "print(bool(\"\"))"
   ]
  },
  {
   "cell_type": "code",
   "execution_count": null,
   "metadata": {
    "tags": []
   },
   "outputs": [],
   "source": [
    "name = \"\"\n",
    "surname = \"Smith\"\n",
    "greeting = name or f\"Mr. {name} {surname} !\"\n",
    "print(greeting)"
   ]
  },
  {
   "cell_type": "code",
   "execution_count": null,
   "metadata": {
    "tags": []
   },
   "outputs": [],
   "source": [
    "print(not(35))\n",
    "print(not(\"\"))"
   ]
  },
  {
   "cell_type": "code",
   "execution_count": null,
   "metadata": {
    "tags": []
   },
   "outputs": [],
   "source": [
    "friends = [\"Rolf\", 2, \"Anne\"]\n",
    "print(friends[1])"
   ]
  },
  {
   "cell_type": "code",
   "execution_count": null,
   "metadata": {
    "tags": []
   },
   "outputs": [],
   "source": [
    "friends = [[\"Rolf\", 24], [\"Anne\", 27]]\n",
    "print(friends[1][1])"
   ]
  },
  {
   "source": [
    "\"\"\" Lists \"\"\""
   ],
   "cell_type": "markdown",
   "metadata": {}
  },
  {
   "cell_type": "code",
   "execution_count": null,
   "metadata": {
    "tags": []
   },
   "outputs": [],
   "source": [
    "### Lists\n",
    "friends = [\n",
    "    [\"Rolf\", 24],\n",
    "    [\"Bob\", 30],\n",
    "    [\"Anne\", 27],\n",
    "    [\"Charlie\", 37],\n",
    "    [\"John\", 55],\n",
    "    [\"Amber\", 34]\n",
    "]\n",
    "\n",
    "friends.\n",
    "#friends.remove(friends[2])\n",
    "print(friends)\n",
    "print(f\"Friend 2 is {friends[1][0]} and has {friends[1][1]} years.\")"
   ]
  },
  {
   "source": [
    "\"\"\" Tuples \"\"\""
   ],
   "cell_type": "markdown",
   "metadata": {}
  },
  {
   "cell_type": "code",
   "execution_count": null,
   "metadata": {},
   "outputs": [],
   "source": [
    "short_tuple = \"Rolf\", \"Bob\"\n",
    "a_bit_clearer = (\"Rolf\", \"Bob\")"
   ]
  }
 ],
 "metadata": {
  "kernelspec": {
   "name": "python38564bitdc803ba369734779b2c17b2df220b06c",
   "display_name": "Python 3.8.5 64-bit",
   "metadata": {
    "interpreter": {
     "hash": "f7291e4b392a32fbfa525b87d1bbd0a3d888adf3d0deca0c205c61b9e7284b82"
    }
   }
  },
  "language_info": {
   "codemirror_mode": {
    "name": "ipython",
    "version": 3
   },
   "file_extension": ".py",
   "mimetype": "text/x-python",
   "name": "python",
   "nbconvert_exporter": "python",
   "pygments_lexer": "ipython3",
   "version": "3.8.5-final"
  }
 },
 "nbformat": 4,
 "nbformat_minor": 4
}