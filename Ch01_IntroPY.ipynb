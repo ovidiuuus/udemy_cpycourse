{
 "cells": [
  {
   "cell_type": "code",
   "execution_count": 1,
   "metadata": {
    "tags": []
   },
   "outputs": [
    {
     "output_type": "stream",
     "name": "stdout",
     "text": "my name is Ovidiu. Hello World!\n"
    }
   ],
   "source": [
    "print(\"my name is Ovidiu. Hello World!\")"
   ]
  },
  {
   "cell_type": "code",
   "execution_count": 2,
   "metadata": {
    "tags": []
   },
   "outputs": [
    {
     "output_type": "stream",
     "name": "stdout",
     "text": "2\n"
    }
   ],
   "source": [
    "integer_division = 13 // 5\n",
    "print(integer_division)"
   ]
  },
  {
   "cell_type": "code",
   "execution_count": 3,
   "metadata": {
    "tags": []
   },
   "outputs": [
    {
     "output_type": "stream",
     "name": "stdout",
     "text": "3\n"
    }
   ],
   "source": [
    "remainder = 13 % 5\n",
    "print(remainder)"
   ]
  },
  {
   "cell_type": "code",
   "execution_count": 4,
   "metadata": {
    "tags": []
   },
   "outputs": [
    {
     "output_type": "stream",
     "name": "stdout",
     "text": "1\n"
    }
   ],
   "source": [
    "x = 37\n",
    "remainder = x % 2\n",
    "print(remainder)"
   ]
  },
  {
   "cell_type": "code",
   "execution_count": 5,
   "metadata": {},
   "outputs": [],
   "source": [
    "### Exercise 1 : Variables and Numbers\n",
    "# Create 2 varibles, var1 and var2, both with the same value. \n",
    "# It can be anything you want.\n",
    "\n",
    "var1 = 10\n",
    "var2 = 10\n",
    "\n",
    "# Create two variables, num1 and num2, which multiply together to give 16.\n",
    "num1 = 2\n",
    "num2 = 8"
   ]
  },
  {
   "cell_type": "code",
   "execution_count": 6,
   "metadata": {
    "tags": []
   },
   "outputs": [
    {
     "output_type": "stream",
     "name": "stdout",
     "text": "Hello, world!\n"
    }
   ],
   "source": [
    "my_string = \"Hello, world!\"\n",
    "print(my_string)"
   ]
  },
  {
   "cell_type": "code",
   "execution_count": 7,
   "metadata": {
    "tags": []
   },
   "outputs": [
    {
     "output_type": "stream",
     "name": "stdout",
     "text": "Hello, world,\n\nMy name is Jose. Welcome to my program.\n\n"
    }
   ],
   "source": [
    "string_with_quotes = \"Hello, it's me.\"\n",
    "another_with_quotes = \"He said \\\"You are amazing!\\\" yesterday\"\n",
    "multiline = \"\"\"Hello, world,\n",
    "\n",
    "My name is Jose. Welcome to my program.\n",
    "\"\"\"\n",
    "print(multiline)"
   ]
  },
  {
   "cell_type": "code",
   "execution_count": 8,
   "metadata": {},
   "outputs": [
    {
     "output_type": "execute_result",
     "data": {
      "text/plain": "'\\nStrings\\n\\nThis file talks about strings.\\n'"
     },
     "metadata": {},
     "execution_count": 8
    }
   ],
   "source": [
    "\"\"\"\n",
    "Strings\n",
    "\n",
    "This file talks about strings.\n",
    "\"\"\""
   ]
  },
  {
   "cell_type": "code",
   "execution_count": 10,
   "metadata": {
    "tags": []
   },
   "outputs": [
    {
     "output_type": "stream",
     "name": "stdout",
     "text": "Hello, Jose\n"
    }
   ],
   "source": [
    "name = \"Jose\"\n",
    "greeting = \"Hello, \" + name\n",
    "print(greeting)"
   ]
  },
  {
   "cell_type": "code",
   "execution_count": 11,
   "metadata": {
    "tags": []
   },
   "outputs": [
    {
     "output_type": "stream",
     "name": "stdout",
     "text": "Hello, You are 34\n"
    }
   ],
   "source": [
    "age = 34\n",
    "\n",
    "age_as_str = \"Hello, You are \" + str(age)\n",
    "print(age_as_str)"
   ]
  },
  {
   "source": [
    "age = 34\n",
    "print(f\"You are {age}\")"
   ],
   "cell_type": "code",
   "metadata": {
    "tags": []
   },
   "execution_count": 15,
   "outputs": [
    {
     "output_type": "stream",
     "name": "stdout",
     "text": "You are 34\n"
    }
   ]
  },
  {
   "cell_type": "code",
   "execution_count": 18,
   "metadata": {
    "tags": []
   },
   "outputs": [
    {
     "output_type": "stream",
     "name": "stdout",
     "text": "How are you, Jose?\n"
    }
   ],
   "source": [
    "name = \"Jose\"\n",
    "greeting = f\"How are you, {name}?\"\n",
    "print(greeting)"
   ]
  },
  {
   "cell_type": "code",
   "execution_count": null,
   "metadata": {},
   "outputs": [],
   "source": []
  }
 ],
 "metadata": {
  "kernelspec": {
   "display_name": "Python 3",
   "language": "python",
   "name": "python3"
  },
  "language_info": {
   "codemirror_mode": {
    "name": "ipython",
    "version": 3
   },
   "file_extension": ".py",
   "mimetype": "text/x-python",
   "name": "python",
   "nbconvert_exporter": "python",
   "pygments_lexer": "ipython3",
   "version": "3.8.2-final"
  }
 },
 "nbformat": 4,
 "nbformat_minor": 4
}